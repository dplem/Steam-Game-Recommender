{
 "metadata": {
  "language_info": {
   "codemirror_mode": {
    "name": "ipython",
    "version": 3
   },
   "file_extension": ".py",
   "mimetype": "text/x-python",
   "name": "python",
   "nbconvert_exporter": "python",
   "pygments_lexer": "ipython3",
   "version": "3.9.0-final"
  },
  "orig_nbformat": 2,
  "kernelspec": {
   "name": "python3",
   "display_name": "Python 3.9.0 64-bit",
   "metadata": {
    "interpreter": {
     "hash": "63fd5069d213b44bf678585dea6b12cceca9941eaf7f819626cde1f2670de90d"
    }
   }
  }
 },
 "nbformat": 4,
 "nbformat_minor": 2,
 "cells": [
  {
   "cell_type": "code",
   "execution_count": 23,
   "metadata": {},
   "outputs": [],
   "source": [
    "import pandas as pd\n",
    "import os"
   ]
  },
  {
   "cell_type": "code",
   "execution_count": 24,
   "metadata": {},
   "outputs": [],
   "source": [
    "os.chdir('C:\\\\Users\\\\Derek\\\\Desktop\\\\Main\\\\Steam_github\\\\Steam-Game-Recommender')"
   ]
  },
  {
   "cell_type": "code",
   "execution_count": 25,
   "metadata": {},
   "outputs": [],
   "source": [
    "df = pd.read_csv(\"data/steam_games.csv\")"
   ]
  },
  {
   "cell_type": "code",
   "execution_count": 26,
   "metadata": {},
   "outputs": [
    {
     "output_type": "execute_result",
     "data": {
      "text/plain": [
       "                                                 url types  \\\n",
       "0    https://store.steampowered.com/app/379720/DOOM/   app   \n",
       "1  https://store.steampowered.com/app/578080/PLAY...   app   \n",
       "2  https://store.steampowered.com/app/637090/BATT...   app   \n",
       "3    https://store.steampowered.com/app/221100/DayZ/   app   \n",
       "4  https://store.steampowered.com/app/8500/EVE_On...   app   \n",
       "\n",
       "                            Game  \\\n",
       "0                           DOOM   \n",
       "1  PLAYERUNKNOWN'S BATTLEGROUNDS   \n",
       "2                     BATTLETECH   \n",
       "3                           DayZ   \n",
       "4                     EVE Online   \n",
       "\n",
       "                                        desc_snippet  \\\n",
       "0  Now includes all three premium DLC packs (Unto...   \n",
       "1  PLAYERUNKNOWN'S BATTLEGROUNDS is a battle roya...   \n",
       "2  Take command of your own mercenary outfit of '...   \n",
       "3  The post-soviet country of Chernarus is struck...   \n",
       "4  EVE Online is a community-driven spaceship MMO...   \n",
       "\n",
       "                                      recent_reviews  \\\n",
       "0  Very Positive,(554),- 89% of the 554 user revi...   \n",
       "1  Mixed,(6,214),- 49% of the 6,214 user reviews ...   \n",
       "2  Mixed,(166),- 54% of the 166 user reviews in t...   \n",
       "3  Mixed,(932),- 57% of the 932 user reviews in t...   \n",
       "4  Mixed,(287),- 54% of the 287 user reviews in t...   \n",
       "\n",
       "                                         all_reviews release_date  \\\n",
       "0  Very Positive,(42,550),- 92% of the 42,550 use...    12-May-16   \n",
       "1  Mixed,(836,608),- 49% of the 836,608 user revi...    21-Dec-17   \n",
       "2  Mostly Positive,(7,030),- 71% of the 7,030 use...    24-Apr-18   \n",
       "3  Mixed,(167,115),- 61% of the 167,115 user revi...    13-Dec-18   \n",
       "4  Mostly Positive,(11,481),- 74% of the 11,481 u...     6-May-03   \n",
       "\n",
       "             developer                                publisher  \\\n",
       "0          id Software    Bethesda Softworks,Bethesda Softworks   \n",
       "1     PUBG Corporation        PUBG Corporation,PUBG Corporation   \n",
       "2  Harebrained Schemes  Paradox Interactive,Paradox Interactive   \n",
       "3  Bohemia Interactive  Bohemia Interactive,Bohemia Interactive   \n",
       "4                  CCP                                  CCP,CCP   \n",
       "\n",
       "                                        popular_tags  \\\n",
       "0  FPS,Gore,Action,Demons,Shooter,First-Person,Gr...   \n",
       "1  Survival,Shooter,Multiplayer,Battle Royale,PvP...   \n",
       "2  Mechs,Strategy,Turn-Based,Turn-Based Tactics,S...   \n",
       "3  Survival,Zombies,Open World,Multiplayer,PvP,Ma...   \n",
       "4  Space,Massively Multiplayer,Sci-fi,Sandbox,MMO...   \n",
       "\n",
       "                                        game_details  \\\n",
       "0  Single-player,Multi-player,Co-op,Steam Achieve...   \n",
       "1             Multi-player,Online Multi-Player,Stats   \n",
       "2  Single-player,Multi-player,Online Multi-Player...   \n",
       "3  Multi-player,Online Multi-Player,Steam Worksho...   \n",
       "4  Multi-player,Online Multi-Player,MMO,Co-op,Onl...   \n",
       "\n",
       "                                           languages  achievements  \\\n",
       "0  English,French,Italian,German,Spanish - Spain,...          54.0   \n",
       "1  English,Korean,Simplified Chinese,French,Germa...          37.0   \n",
       "2                      English,French,German,Russian         128.0   \n",
       "3  English,French,Italian,German,Spanish - Spain,...           NaN   \n",
       "4                      English,German,Russian,French           NaN   \n",
       "\n",
       "                                               genre  \\\n",
       "0                                             Action   \n",
       "1             Action,Adventure,Massively Multiplayer   \n",
       "2                          Action,Adventure,Strategy   \n",
       "3             Action,Adventure,Massively Multiplayer   \n",
       "4  Action,Free to Play,Massively Multiplayer,RPG,...   \n",
       "\n",
       "                                    game_description  \\\n",
       "0   About This Game Developed by id software, the...   \n",
       "1   About This Game  PLAYERUNKNOWN'S BATTLEGROUND...   \n",
       "2   About This Game  From original BATTLETECH/Mec...   \n",
       "3   About This Game The post-soviet country of Ch...   \n",
       "4                                  About This Game     \n",
       "\n",
       "                                      mature_content  \\\n",
       "0                                                NaN   \n",
       "1   Mature Content Description  The developers de...   \n",
       "2                                                NaN   \n",
       "3                                                NaN   \n",
       "4                                                NaN   \n",
       "\n",
       "                                minimum_requirements  \\\n",
       "0  Minimum:,OS:,Windows 7/8.1/10 (64-bit versions...   \n",
       "1  Minimum:,Requires a 64-bit processor and opera...   \n",
       "2  Minimum:,Requires a 64-bit processor and opera...   \n",
       "3  Minimum:,OS:,Windows 7/8.1 64-bit,Processor:,I...   \n",
       "4  Minimum:,OS:,Windows 7,Processor:,Intel Dual C...   \n",
       "\n",
       "                            recommended_requirements original_price  \\\n",
       "0  Recommended:,OS:,Windows 7/8.1/10 (64-bit vers...        $19.99    \n",
       "1  Recommended:,Requires a 64-bit processor and o...        $29.99    \n",
       "2  Recommended:,Requires a 64-bit processor and o...        $39.99    \n",
       "3  Recommended:,OS:,Windows 10 64-bit,Processor:,...        $44.99    \n",
       "4  Recommended:,OS:,Windows 10,Processor:,Intel i...           Free   \n",
       "\n",
       "  discount_price  \n",
       "0        $14.99   \n",
       "1            NaN  \n",
       "2            NaN  \n",
       "3            NaN  \n",
       "4            NaN  "
      ],
      "text/html": "<div>\n<style scoped>\n    .dataframe tbody tr th:only-of-type {\n        vertical-align: middle;\n    }\n\n    .dataframe tbody tr th {\n        vertical-align: top;\n    }\n\n    .dataframe thead th {\n        text-align: right;\n    }\n</style>\n<table border=\"1\" class=\"dataframe\">\n  <thead>\n    <tr style=\"text-align: right;\">\n      <th></th>\n      <th>url</th>\n      <th>types</th>\n      <th>Game</th>\n      <th>desc_snippet</th>\n      <th>recent_reviews</th>\n      <th>all_reviews</th>\n      <th>release_date</th>\n      <th>developer</th>\n      <th>publisher</th>\n      <th>popular_tags</th>\n      <th>game_details</th>\n      <th>languages</th>\n      <th>achievements</th>\n      <th>genre</th>\n      <th>game_description</th>\n      <th>mature_content</th>\n      <th>minimum_requirements</th>\n      <th>recommended_requirements</th>\n      <th>original_price</th>\n      <th>discount_price</th>\n    </tr>\n  </thead>\n  <tbody>\n    <tr>\n      <th>0</th>\n      <td>https://store.steampowered.com/app/379720/DOOM/</td>\n      <td>app</td>\n      <td>DOOM</td>\n      <td>Now includes all three premium DLC packs (Unto...</td>\n      <td>Very Positive,(554),- 89% of the 554 user revi...</td>\n      <td>Very Positive,(42,550),- 92% of the 42,550 use...</td>\n      <td>12-May-16</td>\n      <td>id Software</td>\n      <td>Bethesda Softworks,Bethesda Softworks</td>\n      <td>FPS,Gore,Action,Demons,Shooter,First-Person,Gr...</td>\n      <td>Single-player,Multi-player,Co-op,Steam Achieve...</td>\n      <td>English,French,Italian,German,Spanish - Spain,...</td>\n      <td>54.0</td>\n      <td>Action</td>\n      <td>About This Game Developed by id software, the...</td>\n      <td>NaN</td>\n      <td>Minimum:,OS:,Windows 7/8.1/10 (64-bit versions...</td>\n      <td>Recommended:,OS:,Windows 7/8.1/10 (64-bit vers...</td>\n      <td>$19.99</td>\n      <td>$14.99</td>\n    </tr>\n    <tr>\n      <th>1</th>\n      <td>https://store.steampowered.com/app/578080/PLAY...</td>\n      <td>app</td>\n      <td>PLAYERUNKNOWN'S BATTLEGROUNDS</td>\n      <td>PLAYERUNKNOWN'S BATTLEGROUNDS is a battle roya...</td>\n      <td>Mixed,(6,214),- 49% of the 6,214 user reviews ...</td>\n      <td>Mixed,(836,608),- 49% of the 836,608 user revi...</td>\n      <td>21-Dec-17</td>\n      <td>PUBG Corporation</td>\n      <td>PUBG Corporation,PUBG Corporation</td>\n      <td>Survival,Shooter,Multiplayer,Battle Royale,PvP...</td>\n      <td>Multi-player,Online Multi-Player,Stats</td>\n      <td>English,Korean,Simplified Chinese,French,Germa...</td>\n      <td>37.0</td>\n      <td>Action,Adventure,Massively Multiplayer</td>\n      <td>About This Game  PLAYERUNKNOWN'S BATTLEGROUND...</td>\n      <td>Mature Content Description  The developers de...</td>\n      <td>Minimum:,Requires a 64-bit processor and opera...</td>\n      <td>Recommended:,Requires a 64-bit processor and o...</td>\n      <td>$29.99</td>\n      <td>NaN</td>\n    </tr>\n    <tr>\n      <th>2</th>\n      <td>https://store.steampowered.com/app/637090/BATT...</td>\n      <td>app</td>\n      <td>BATTLETECH</td>\n      <td>Take command of your own mercenary outfit of '...</td>\n      <td>Mixed,(166),- 54% of the 166 user reviews in t...</td>\n      <td>Mostly Positive,(7,030),- 71% of the 7,030 use...</td>\n      <td>24-Apr-18</td>\n      <td>Harebrained Schemes</td>\n      <td>Paradox Interactive,Paradox Interactive</td>\n      <td>Mechs,Strategy,Turn-Based,Turn-Based Tactics,S...</td>\n      <td>Single-player,Multi-player,Online Multi-Player...</td>\n      <td>English,French,German,Russian</td>\n      <td>128.0</td>\n      <td>Action,Adventure,Strategy</td>\n      <td>About This Game  From original BATTLETECH/Mec...</td>\n      <td>NaN</td>\n      <td>Minimum:,Requires a 64-bit processor and opera...</td>\n      <td>Recommended:,Requires a 64-bit processor and o...</td>\n      <td>$39.99</td>\n      <td>NaN</td>\n    </tr>\n    <tr>\n      <th>3</th>\n      <td>https://store.steampowered.com/app/221100/DayZ/</td>\n      <td>app</td>\n      <td>DayZ</td>\n      <td>The post-soviet country of Chernarus is struck...</td>\n      <td>Mixed,(932),- 57% of the 932 user reviews in t...</td>\n      <td>Mixed,(167,115),- 61% of the 167,115 user revi...</td>\n      <td>13-Dec-18</td>\n      <td>Bohemia Interactive</td>\n      <td>Bohemia Interactive,Bohemia Interactive</td>\n      <td>Survival,Zombies,Open World,Multiplayer,PvP,Ma...</td>\n      <td>Multi-player,Online Multi-Player,Steam Worksho...</td>\n      <td>English,French,Italian,German,Spanish - Spain,...</td>\n      <td>NaN</td>\n      <td>Action,Adventure,Massively Multiplayer</td>\n      <td>About This Game The post-soviet country of Ch...</td>\n      <td>NaN</td>\n      <td>Minimum:,OS:,Windows 7/8.1 64-bit,Processor:,I...</td>\n      <td>Recommended:,OS:,Windows 10 64-bit,Processor:,...</td>\n      <td>$44.99</td>\n      <td>NaN</td>\n    </tr>\n    <tr>\n      <th>4</th>\n      <td>https://store.steampowered.com/app/8500/EVE_On...</td>\n      <td>app</td>\n      <td>EVE Online</td>\n      <td>EVE Online is a community-driven spaceship MMO...</td>\n      <td>Mixed,(287),- 54% of the 287 user reviews in t...</td>\n      <td>Mostly Positive,(11,481),- 74% of the 11,481 u...</td>\n      <td>6-May-03</td>\n      <td>CCP</td>\n      <td>CCP,CCP</td>\n      <td>Space,Massively Multiplayer,Sci-fi,Sandbox,MMO...</td>\n      <td>Multi-player,Online Multi-Player,MMO,Co-op,Onl...</td>\n      <td>English,German,Russian,French</td>\n      <td>NaN</td>\n      <td>Action,Free to Play,Massively Multiplayer,RPG,...</td>\n      <td>About This Game</td>\n      <td>NaN</td>\n      <td>Minimum:,OS:,Windows 7,Processor:,Intel Dual C...</td>\n      <td>Recommended:,OS:,Windows 10,Processor:,Intel i...</td>\n      <td>Free</td>\n      <td>NaN</td>\n    </tr>\n  </tbody>\n</table>\n</div>"
     },
     "metadata": {},
     "execution_count": 26
    }
   ],
   "source": [
    "df.head()"
   ]
  },
  {
   "cell_type": "code",
   "execution_count": 27,
   "metadata": {},
   "outputs": [
    {
     "output_type": "execute_result",
     "data": {
      "text/plain": [
       "       achievements\n",
       "count  12194.000000\n",
       "mean      77.237494\n",
       "std      448.501848\n",
       "min        1.000000\n",
       "25%       12.000000\n",
       "50%       21.000000\n",
       "75%       38.000000\n",
       "max     9821.000000"
      ],
      "text/html": "<div>\n<style scoped>\n    .dataframe tbody tr th:only-of-type {\n        vertical-align: middle;\n    }\n\n    .dataframe tbody tr th {\n        vertical-align: top;\n    }\n\n    .dataframe thead th {\n        text-align: right;\n    }\n</style>\n<table border=\"1\" class=\"dataframe\">\n  <thead>\n    <tr style=\"text-align: right;\">\n      <th></th>\n      <th>achievements</th>\n    </tr>\n  </thead>\n  <tbody>\n    <tr>\n      <th>count</th>\n      <td>12194.000000</td>\n    </tr>\n    <tr>\n      <th>mean</th>\n      <td>77.237494</td>\n    </tr>\n    <tr>\n      <th>std</th>\n      <td>448.501848</td>\n    </tr>\n    <tr>\n      <th>min</th>\n      <td>1.000000</td>\n    </tr>\n    <tr>\n      <th>25%</th>\n      <td>12.000000</td>\n    </tr>\n    <tr>\n      <th>50%</th>\n      <td>21.000000</td>\n    </tr>\n    <tr>\n      <th>75%</th>\n      <td>38.000000</td>\n    </tr>\n    <tr>\n      <th>max</th>\n      <td>9821.000000</td>\n    </tr>\n  </tbody>\n</table>\n</div>"
     },
     "metadata": {},
     "execution_count": 27
    }
   ],
   "source": [
    "df.describe()"
   ]
  },
  {
   "cell_type": "code",
   "execution_count": 28,
   "metadata": {},
   "outputs": [
    {
     "output_type": "stream",
     "name": "stdout",
     "text": [
      "<class 'pandas.core.frame.DataFrame'>\nRangeIndex: 40833 entries, 0 to 40832\nData columns (total 20 columns):\n #   Column                    Non-Null Count  Dtype  \n---  ------                    --------------  -----  \n 0   url                       40833 non-null  object \n 1   types                     40831 non-null  object \n 2   Game                      40817 non-null  object \n 3   desc_snippet              27612 non-null  object \n 4   recent_reviews            2706 non-null   object \n 5   all_reviews               28470 non-null  object \n 6   release_date              37654 non-null  object \n 7   developer                 40490 non-null  object \n 8   publisher                 35733 non-null  object \n 9   popular_tags              37888 non-null  object \n 10  game_details              40313 non-null  object \n 11  languages                 40797 non-null  object \n 12  achievements              12194 non-null  float64\n 13  genre                     40395 non-null  object \n 14  game_description          37920 non-null  object \n 15  mature_content            2897 non-null   object \n 16  minimum_requirements      21069 non-null  object \n 17  recommended_requirements  21075 non-null  object \n 18  original_price            35522 non-null  object \n 19  discount_price            14543 non-null  object \ndtypes: float64(1), object(19)\nmemory usage: 6.2+ MB\n"
     ]
    }
   ],
   "source": [
    "df.info()"
   ]
  },
  {
   "cell_type": "code",
   "execution_count": 29,
   "metadata": {},
   "outputs": [
    {
     "output_type": "stream",
     "name": "stdout",
     "text": [
      "Index(['url', 'types', 'Game', 'desc_snippet', 'recent_reviews', 'all_reviews',\n       'release_date', 'developer', 'publisher', 'popular_tags',\n       'game_details', 'languages', 'achievements', 'genre',\n       'game_description', 'mature_content', 'minimum_requirements',\n       'recommended_requirements', 'original_price', 'discount_price'],\n      dtype='object')\n"
     ]
    }
   ],
   "source": [
    "print(df.columns)"
   ]
  },
  {
   "cell_type": "code",
   "execution_count": 30,
   "metadata": {},
   "outputs": [
    {
     "output_type": "stream",
     "name": "stdout",
     "text": [
      "url                             0\ntypes                           2\nGame                           16\ndesc_snippet                13221\nrecent_reviews              38127\nall_reviews                 12363\nrelease_date                 3179\ndeveloper                     343\npublisher                    5100\npopular_tags                 2945\ngame_details                  520\nlanguages                      36\nachievements                28639\ngenre                         438\ngame_description             2913\nmature_content              37936\nminimum_requirements        19764\nrecommended_requirements    19758\noriginal_price               5311\ndiscount_price              26290\ndtype: int64\n"
     ]
    }
   ],
   "source": [
    "print(df.isnull().sum())"
   ]
  },
  {
   "cell_type": "code",
   "execution_count": 31,
   "metadata": {},
   "outputs": [
    {
     "output_type": "stream",
     "name": "stdout",
     "text": [
      "url                           https://store.steampowered.com/app/379720/DOOM/\ntypes                                                                     app\nGame                                                                     DOOM\ndesc_snippet                Now includes all three premium DLC packs (Unto...\nrecent_reviews              Very Positive,(554),- 89% of the 554 user revi...\nall_reviews                 Very Positive,(42,550),- 92% of the 42,550 use...\nrelease_date                                                        12-May-16\ndeveloper                                                         id Software\npublisher                               Bethesda Softworks,Bethesda Softworks\npopular_tags                FPS,Gore,Action,Demons,Shooter,First-Person,Gr...\ngame_details                Single-player,Multi-player,Co-op,Steam Achieve...\nlanguages                   English,French,Italian,German,Spanish - Spain,...\nachievements                                                             54.0\ngenre                                                                  Action\ngame_description             About This Game Developed by id software, the...\nmature_content                                                            NaN\nminimum_requirements        Minimum:,OS:,Windows 7/8.1/10 (64-bit versions...\nrecommended_requirements    Recommended:,OS:,Windows 7/8.1/10 (64-bit vers...\noriginal_price                                                        $19.99 \ndiscount_price                                                        $14.99 \nName: 0, dtype: object\n"
     ]
    }
   ],
   "source": [
    "print(df.loc[0])"
   ]
  },
  {
   "cell_type": "code",
   "execution_count": 32,
   "metadata": {},
   "outputs": [
    {
     "output_type": "execute_result",
     "data": {
      "text/plain": [
       "0        19.99 \n",
       "1        29.99 \n",
       "2        39.99 \n",
       "3        44.99 \n",
       "4          Free\n",
       "          ...  \n",
       "40828     2.99 \n",
       "40829     2.99 \n",
       "40830     7.99 \n",
       "40831     9.99 \n",
       "40832     4.99 \n",
       "Name: original_price, Length: 40833, dtype: object"
      ]
     },
     "metadata": {},
     "execution_count": 32
    }
   ],
   "source": [
    "df.original_price.str.strip('$')"
   ]
  },
  {
   "cell_type": "code",
   "execution_count": 33,
   "metadata": {},
   "outputs": [
    {
     "output_type": "execute_result",
     "data": {
      "text/plain": [
       "0        14.99 \n",
       "1           NaN\n",
       "2           NaN\n",
       "3           NaN\n",
       "4           NaN\n",
       "          ...  \n",
       "40828       NaN\n",
       "40829       NaN\n",
       "40830       NaN\n",
       "40831       NaN\n",
       "40832     2.80 \n",
       "Name: discount_price, Length: 40833, dtype: object"
      ]
     },
     "metadata": {},
     "execution_count": 33
    }
   ],
   "source": [
    "df.discount_price.str.strip('$')"
   ]
  },
  {
   "cell_type": "code",
   "execution_count": 34,
   "metadata": {},
   "outputs": [
    {
     "output_type": "stream",
     "name": "stdout",
     "text": [
      "False    39507\nTrue      1326\nName: original_price, dtype: int64\n"
     ]
    }
   ],
   "source": [
    "# Number of games that are Free\n",
    "print((df['original_price'] == 'Free').value_counts())"
   ]
  },
  {
   "cell_type": "code",
   "execution_count": 35,
   "metadata": {},
   "outputs": [
    {
     "output_type": "execute_result",
     "data": {
      "text/plain": [
       "                                                 url types  \\\n",
       "0    https://store.steampowered.com/app/379720/DOOM/   app   \n",
       "1  https://store.steampowered.com/app/578080/PLAY...   app   \n",
       "2  https://store.steampowered.com/app/637090/BATT...   app   \n",
       "3    https://store.steampowered.com/app/221100/DayZ/   app   \n",
       "4  https://store.steampowered.com/app/8500/EVE_On...   app   \n",
       "\n",
       "                            Game  \\\n",
       "0                           DOOM   \n",
       "1  PLAYERUNKNOWN'S BATTLEGROUNDS   \n",
       "2                     BATTLETECH   \n",
       "3                           DayZ   \n",
       "4                     EVE Online   \n",
       "\n",
       "                                        desc_snippet  \\\n",
       "0  Now includes all three premium DLC packs (Unto...   \n",
       "1  PLAYERUNKNOWN'S BATTLEGROUNDS is a battle roya...   \n",
       "2  Take command of your own mercenary outfit of '...   \n",
       "3  The post-soviet country of Chernarus is struck...   \n",
       "4  EVE Online is a community-driven spaceship MMO...   \n",
       "\n",
       "                                      recent_reviews  \\\n",
       "0  Very Positive (554) - 89% of the 554 user revi...   \n",
       "1  Mixed (6 214) - 49% of the 6 214 user reviews ...   \n",
       "2  Mixed (166) - 54% of the 166 user reviews in t...   \n",
       "3  Mixed (932) - 57% of the 932 user reviews in t...   \n",
       "4  Mixed (287) - 54% of the 287 user reviews in t...   \n",
       "\n",
       "                                         all_reviews release_date  \\\n",
       "0  Very Positive (42 550) - 92% of the 42 550 use...    12-May-16   \n",
       "1  Mixed (836 608) - 49% of the 836 608 user revi...    21-Dec-17   \n",
       "2  Mostly Positive (7 030) - 71% of the 7 030 use...    24-Apr-18   \n",
       "3  Mixed (167 115) - 61% of the 167 115 user revi...    13-Dec-18   \n",
       "4  Mostly Positive (11 481) - 74% of the 11 481 u...     6-May-03   \n",
       "\n",
       "             developer                                publisher  \\\n",
       "0          id Software    Bethesda Softworks Bethesda Softworks   \n",
       "1     PUBG Corporation        PUBG Corporation PUBG Corporation   \n",
       "2  Harebrained Schemes  Paradox Interactive Paradox Interactive   \n",
       "3  Bohemia Interactive  Bohemia Interactive Bohemia Interactive   \n",
       "4                  CCP                                  CCP CCP   \n",
       "\n",
       "                                        popular_tags  \\\n",
       "0  FPS Gore Action Demons Shooter First-Person Gr...   \n",
       "1  Survival Shooter Multiplayer Battle Royale PvP...   \n",
       "2  Mechs Strategy Turn-Based Turn-Based Tactics S...   \n",
       "3  Survival Zombies Open World Multiplayer PvP Ma...   \n",
       "4  Space Massively Multiplayer Sci-fi Sandbox MMO...   \n",
       "\n",
       "                                        game_details  \\\n",
       "0  Single-player Multi-player Co-op Steam Achieve...   \n",
       "1             Multi-player Online Multi-Player Stats   \n",
       "2  Single-player Multi-player Online Multi-Player...   \n",
       "3  Multi-player Online Multi-Player Steam Worksho...   \n",
       "4  Multi-player Online Multi-Player MMO Co-op Onl...   \n",
       "\n",
       "                                           languages achievements  \\\n",
       "0  English French Italian German Spanish - Spain ...          NaN   \n",
       "1  English Korean Simplified Chinese French Germa...          NaN   \n",
       "2                      English French German Russian          NaN   \n",
       "3  English French Italian German Spanish - Spain ...          NaN   \n",
       "4                      English German Russian French          NaN   \n",
       "\n",
       "                                               genre  \\\n",
       "0                                             Action   \n",
       "1             Action Adventure Massively Multiplayer   \n",
       "2                          Action Adventure Strategy   \n",
       "3             Action Adventure Massively Multiplayer   \n",
       "4  Action Free to Play Massively Multiplayer RPG ...   \n",
       "\n",
       "                                    game_description  \\\n",
       "0   About This Game Developed by id software  the...   \n",
       "1   About This Game  PLAYERUNKNOWN'S BATTLEGROUND...   \n",
       "2   About This Game  From original BATTLETECH/Mec...   \n",
       "3   About This Game The post-soviet country of Ch...   \n",
       "4                                  About This Game     \n",
       "\n",
       "                                      mature_content  \\\n",
       "0                                                NaN   \n",
       "1   Mature Content Description  The developers de...   \n",
       "2                                                NaN   \n",
       "3                                                NaN   \n",
       "4                                                NaN   \n",
       "\n",
       "                                minimum_requirements  \\\n",
       "0  Minimum: OS: Windows 7/8.1/10 (64-bit versions...   \n",
       "1  Minimum: Requires a 64-bit processor and opera...   \n",
       "2  Minimum: Requires a 64-bit processor and opera...   \n",
       "3  Minimum: OS: Windows 7/8.1 64-bit Processor: I...   \n",
       "4  Minimum: OS: Windows 7 Processor: Intel Dual C...   \n",
       "\n",
       "                            recommended_requirements original_price  \\\n",
       "0  Recommended: OS: Windows 7/8.1/10 (64-bit vers...        $19.99    \n",
       "1  Recommended: Requires a 64-bit processor and o...        $29.99    \n",
       "2  Recommended: Requires a 64-bit processor and o...        $39.99    \n",
       "3  Recommended: OS: Windows 10 64-bit Processor: ...        $44.99    \n",
       "4  Recommended: OS: Windows 10 Processor: Intel i...           Free   \n",
       "\n",
       "  discount_price  \n",
       "0        $14.99   \n",
       "1            NaN  \n",
       "2            NaN  \n",
       "3            NaN  \n",
       "4            NaN  "
      ],
      "text/html": "<div>\n<style scoped>\n    .dataframe tbody tr th:only-of-type {\n        vertical-align: middle;\n    }\n\n    .dataframe tbody tr th {\n        vertical-align: top;\n    }\n\n    .dataframe thead th {\n        text-align: right;\n    }\n</style>\n<table border=\"1\" class=\"dataframe\">\n  <thead>\n    <tr style=\"text-align: right;\">\n      <th></th>\n      <th>url</th>\n      <th>types</th>\n      <th>Game</th>\n      <th>desc_snippet</th>\n      <th>recent_reviews</th>\n      <th>all_reviews</th>\n      <th>release_date</th>\n      <th>developer</th>\n      <th>publisher</th>\n      <th>popular_tags</th>\n      <th>game_details</th>\n      <th>languages</th>\n      <th>achievements</th>\n      <th>genre</th>\n      <th>game_description</th>\n      <th>mature_content</th>\n      <th>minimum_requirements</th>\n      <th>recommended_requirements</th>\n      <th>original_price</th>\n      <th>discount_price</th>\n    </tr>\n  </thead>\n  <tbody>\n    <tr>\n      <th>0</th>\n      <td>https://store.steampowered.com/app/379720/DOOM/</td>\n      <td>app</td>\n      <td>DOOM</td>\n      <td>Now includes all three premium DLC packs (Unto...</td>\n      <td>Very Positive (554) - 89% of the 554 user revi...</td>\n      <td>Very Positive (42 550) - 92% of the 42 550 use...</td>\n      <td>12-May-16</td>\n      <td>id Software</td>\n      <td>Bethesda Softworks Bethesda Softworks</td>\n      <td>FPS Gore Action Demons Shooter First-Person Gr...</td>\n      <td>Single-player Multi-player Co-op Steam Achieve...</td>\n      <td>English French Italian German Spanish - Spain ...</td>\n      <td>NaN</td>\n      <td>Action</td>\n      <td>About This Game Developed by id software  the...</td>\n      <td>NaN</td>\n      <td>Minimum: OS: Windows 7/8.1/10 (64-bit versions...</td>\n      <td>Recommended: OS: Windows 7/8.1/10 (64-bit vers...</td>\n      <td>$19.99</td>\n      <td>$14.99</td>\n    </tr>\n    <tr>\n      <th>1</th>\n      <td>https://store.steampowered.com/app/578080/PLAY...</td>\n      <td>app</td>\n      <td>PLAYERUNKNOWN'S BATTLEGROUNDS</td>\n      <td>PLAYERUNKNOWN'S BATTLEGROUNDS is a battle roya...</td>\n      <td>Mixed (6 214) - 49% of the 6 214 user reviews ...</td>\n      <td>Mixed (836 608) - 49% of the 836 608 user revi...</td>\n      <td>21-Dec-17</td>\n      <td>PUBG Corporation</td>\n      <td>PUBG Corporation PUBG Corporation</td>\n      <td>Survival Shooter Multiplayer Battle Royale PvP...</td>\n      <td>Multi-player Online Multi-Player Stats</td>\n      <td>English Korean Simplified Chinese French Germa...</td>\n      <td>NaN</td>\n      <td>Action Adventure Massively Multiplayer</td>\n      <td>About This Game  PLAYERUNKNOWN'S BATTLEGROUND...</td>\n      <td>Mature Content Description  The developers de...</td>\n      <td>Minimum: Requires a 64-bit processor and opera...</td>\n      <td>Recommended: Requires a 64-bit processor and o...</td>\n      <td>$29.99</td>\n      <td>NaN</td>\n    </tr>\n    <tr>\n      <th>2</th>\n      <td>https://store.steampowered.com/app/637090/BATT...</td>\n      <td>app</td>\n      <td>BATTLETECH</td>\n      <td>Take command of your own mercenary outfit of '...</td>\n      <td>Mixed (166) - 54% of the 166 user reviews in t...</td>\n      <td>Mostly Positive (7 030) - 71% of the 7 030 use...</td>\n      <td>24-Apr-18</td>\n      <td>Harebrained Schemes</td>\n      <td>Paradox Interactive Paradox Interactive</td>\n      <td>Mechs Strategy Turn-Based Turn-Based Tactics S...</td>\n      <td>Single-player Multi-player Online Multi-Player...</td>\n      <td>English French German Russian</td>\n      <td>NaN</td>\n      <td>Action Adventure Strategy</td>\n      <td>About This Game  From original BATTLETECH/Mec...</td>\n      <td>NaN</td>\n      <td>Minimum: Requires a 64-bit processor and opera...</td>\n      <td>Recommended: Requires a 64-bit processor and o...</td>\n      <td>$39.99</td>\n      <td>NaN</td>\n    </tr>\n    <tr>\n      <th>3</th>\n      <td>https://store.steampowered.com/app/221100/DayZ/</td>\n      <td>app</td>\n      <td>DayZ</td>\n      <td>The post-soviet country of Chernarus is struck...</td>\n      <td>Mixed (932) - 57% of the 932 user reviews in t...</td>\n      <td>Mixed (167 115) - 61% of the 167 115 user revi...</td>\n      <td>13-Dec-18</td>\n      <td>Bohemia Interactive</td>\n      <td>Bohemia Interactive Bohemia Interactive</td>\n      <td>Survival Zombies Open World Multiplayer PvP Ma...</td>\n      <td>Multi-player Online Multi-Player Steam Worksho...</td>\n      <td>English French Italian German Spanish - Spain ...</td>\n      <td>NaN</td>\n      <td>Action Adventure Massively Multiplayer</td>\n      <td>About This Game The post-soviet country of Ch...</td>\n      <td>NaN</td>\n      <td>Minimum: OS: Windows 7/8.1 64-bit Processor: I...</td>\n      <td>Recommended: OS: Windows 10 64-bit Processor: ...</td>\n      <td>$44.99</td>\n      <td>NaN</td>\n    </tr>\n    <tr>\n      <th>4</th>\n      <td>https://store.steampowered.com/app/8500/EVE_On...</td>\n      <td>app</td>\n      <td>EVE Online</td>\n      <td>EVE Online is a community-driven spaceship MMO...</td>\n      <td>Mixed (287) - 54% of the 287 user reviews in t...</td>\n      <td>Mostly Positive (11 481) - 74% of the 11 481 u...</td>\n      <td>6-May-03</td>\n      <td>CCP</td>\n      <td>CCP CCP</td>\n      <td>Space Massively Multiplayer Sci-fi Sandbox MMO...</td>\n      <td>Multi-player Online Multi-Player MMO Co-op Onl...</td>\n      <td>English German Russian French</td>\n      <td>NaN</td>\n      <td>Action Free to Play Massively Multiplayer RPG ...</td>\n      <td>About This Game</td>\n      <td>NaN</td>\n      <td>Minimum: OS: Windows 7 Processor: Intel Dual C...</td>\n      <td>Recommended: OS: Windows 10 Processor: Intel i...</td>\n      <td>Free</td>\n      <td>NaN</td>\n    </tr>\n  </tbody>\n</table>\n</div>"
     },
     "metadata": {},
     "execution_count": 35
    }
   ],
   "source": [
    "df = df.stack().str.replace(',',' ').unstack()\n",
    "df.head()"
   ]
  },
  {
   "cell_type": "code",
   "execution_count": null,
   "metadata": {},
   "outputs": [],
   "source": []
  }
 ]
}